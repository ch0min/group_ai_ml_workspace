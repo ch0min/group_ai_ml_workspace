{
 "cells": [
  {
   "cell_type": "markdown",
   "id": "ce8e1e84-035f-494d-a94a-0be3d80ef49d",
   "metadata": {},
   "source": [
    "Class Assignments\n",
    "===========\n",
    "\n",
    "\n",
    "\n",
    "Assignment 1 (week 2)\n",
    "------------\n",
    "\n",
    "The these two papers in the given order.\n",
    "\n",
    "Rajpurkar, Pranav, et al. \"Chexnet: Radiologist-level pneumonia detection on chest x-rays with deep learning.\" arXiv preprint arXiv:1711.05225 (2017).\n",
    "\n",
    "Strøm, Henrik, Steven Albury, and Lene Tolstrup Sørensen. \"Machine Learning Performance Metrics and Diagnostic Context in Radiology.\" 2018 11th CMI International Conference: Prospects and Challenges Towards Developing a Digital Economy within the EU. IEEE, 2018.\n",
    "\n",
    "Reflect on the framing of the problem in the first paper."
   ]
  },
  {
   "cell_type": "markdown",
   "id": "21481da7-1351-49e7-b496-ef223cc12642",
   "metadata": {},
   "source": [
    "Assignment 2 (week3)\n",
    "------------\n",
    "\n",
    "In groups: find five examples of each of the four data types: nominal, ordinal, interval, and ratio.\n",
    "Explain your reasoning."
   ]
  },
  {
   "cell_type": "markdown",
   "id": "411a8f9d-a16c-452a-9274-7e7604e20ead",
   "metadata": {},
   "source": [
    "Assignment 3 (week 4)\n",
    "------------\n",
    "\n",
    "Find a data set and explore its data.\n",
    "\n",
    "What kind of questions do you think you could answer by analyzing this data set?"
   ]
  },
  {
   "cell_type": "markdown",
   "id": "89457f7e-edc3-4359-9e7e-e5ad0d3f8801",
   "metadata": {},
   "source": [
    "Assignment 4\n",
    "------------\n",
    "\n",
    "Read `5 Quick and Easy Data Visualizations in Python with Code <https://towardsdatascience.com/5-quick-and-easy-data-visualizations-in-python-with-code-a2284bae952f>`_.\n",
    "\n",
    "Try to run the scripts in a Jupyter notebook and play around with the scripts."
   ]
  },
  {
   "cell_type": "code",
   "execution_count": null,
   "id": "eaabd725-7577-4f2b-b2a5-3b2be8002e09",
   "metadata": {},
   "outputs": [],
   "source": []
  }
 ],
 "metadata": {
  "kernelspec": {
   "display_name": "Python 3 (ipykernel)",
   "language": "python",
   "name": "python3"
  },
  "language_info": {
   "codemirror_mode": {
    "name": "ipython",
    "version": 3
   },
   "file_extension": ".py",
   "mimetype": "text/x-python",
   "name": "python",
   "nbconvert_exporter": "python",
   "pygments_lexer": "ipython3",
   "version": "3.11.7"
  }
 },
 "nbformat": 4,
 "nbformat_minor": 5
}

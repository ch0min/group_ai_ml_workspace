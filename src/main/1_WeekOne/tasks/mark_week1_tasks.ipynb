{
 "cells": [
  {
   "cell_type": "markdown",
   "id": "8c092538-c285-430a-b124-2497101ec332",
   "metadata": {},
   "source": [
    "### Task 1"
   ]
  },
  {
   "cell_type": "markdown",
   "id": "962c7a68-f873-4ea1-a5db-98a12f1003a1",
   "metadata": {},
   "source": [
    "Practice \"magic\" commands, examples:"
   ]
  },
  {
   "cell_type": "code",
   "execution_count": 16,
   "id": "ec8dfb2d-d614-4e50-b3d7-eec500082514",
   "metadata": {
    "tags": []
   },
   "outputs": [
    {
     "name": "stdout",
     "output_type": "stream",
     "text": [
      "week1_tasks.ipynb\n"
     ]
    },
    {
     "data": {
      "text/plain": [
       "'/Users/marklundgaard/Desktop/SoftDev/1sem/AI-ML/JupyterNotebook_Extra'"
      ]
     },
     "execution_count": 16,
     "metadata": {},
     "output_type": "execute_result"
    }
   ],
   "source": [
    "%ls\n",
    "%pwd"
   ]
  },
  {
   "cell_type": "markdown",
   "id": "c8720f4d-0a3c-465a-a5f0-488f37cdc350",
   "metadata": {},
   "source": [
    "Below is an example of a line magic command"
   ]
  },
  {
   "cell_type": "code",
   "execution_count": 13,
   "id": "c4226456-164e-4c45-be01-06fcc6fdd03b",
   "metadata": {
    "tags": []
   },
   "outputs": [
    {
     "name": "stdout",
     "output_type": "stream",
     "text": [
      "CPU times: user 36 µs, sys: 2 µs, total: 38 µs\n",
      "Wall time: 45.1 µs\n"
     ]
    }
   ],
   "source": [
    "%time squares = [x**2 for x in range(1, 100)]"
   ]
  },
  {
   "cell_type": "markdown",
   "id": "d8156cc5-d6ec-453b-953e-72a34b73178a",
   "metadata": {},
   "source": [
    "Below is an example of a cell magic command"
   ]
  },
  {
   "cell_type": "code",
   "execution_count": 26,
   "id": "c30f7462-0c50-4ff2-b1a2-6b04ef6a526e",
   "metadata": {
    "tags": []
   },
   "outputs": [
    {
     "name": "stdout",
     "output_type": "stream",
     "text": [
      "CPU times: user 34 µs, sys: 0 ns, total: 34 µs\n",
      "Wall time: 37.9 µs\n"
     ]
    }
   ],
   "source": [
    "%%time\n",
    "x = [n**2 for n in range(100)]\n",
    "y = [n**3 for n in range(100)]\n"
   ]
  },
  {
   "cell_type": "code",
   "execution_count": null,
   "id": "e5501a4c-10a9-4a7d-a142-156fa32c63c1",
   "metadata": {},
   "outputs": [],
   "source": []
  },
  {
   "cell_type": "markdown",
   "id": "8871086b-91c5-421a-8a03-77b90bdf955f",
   "metadata": {
    "tags": []
   },
   "source": [
    "### Task 2"
   ]
  },
  {
   "cell_type": "markdown",
   "id": "b7372d68-8588-446a-83f8-420f255eb4fe",
   "metadata": {},
   "source": [
    "Python flow of control show how Python handles it:"
   ]
  },
  {
   "cell_type": "markdown",
   "id": "07038ef6-c112-4f92-9d19-182a1ca72743",
   "metadata": {
    "tags": []
   },
   "source": [
    "Flow of control in Python refers to the order in which the program's instructions are executed. This control flow is managed using various constructs such as conditional statements, loops, and function calls. "
   ]
  },
  {
   "cell_type": "code",
   "execution_count": 20,
   "id": "920db81e-20a0-4541-874b-bff3b728ba35",
   "metadata": {
    "tags": []
   },
   "outputs": [
    {
     "name": "stdout",
     "output_type": "stream",
     "text": [
      "1\n",
      "3\n",
      "5\n",
      "7\n",
      "9\n"
     ]
    }
   ],
   "source": [
    "for i in range(1, 11):\n",
    "    if i % 2 == 0:\n",
    "        continue\n",
    "    print(i)"
   ]
  },
  {
   "cell_type": "markdown",
   "id": "4dae884a-e177-4745-a91e-109a6107df89",
   "metadata": {
    "tags": []
   },
   "source": [
    "### Task 3"
   ]
  },
  {
   "cell_type": "markdown",
   "id": "fc60a88c-e256-41d9-98ca-31e480d6be11",
   "metadata": {},
   "source": [
    "Data types and Data Structures"
   ]
  },
  {
   "cell_type": "code",
   "execution_count": null,
   "id": "3021ab65-fb9f-4bf6-bf36-98a1e4226078",
   "metadata": {
    "tags": []
   },
   "outputs": [],
   "source": [
    "Data Types:\n",
    "\n",
    "Text Type:\tstr\n",
    "Numeric Types:\tint, float, complex\n",
    "Sequence Types:\tlist, tuple, range\n",
    "Mapping Type:\tdict\n",
    "Set Types:\tset, frozenset\n",
    "Boolean Type:\tbool\n",
    "Binary Types:\tbytes, bytearray, memoryview\n",
    "None Type:\tNoneType"
   ]
  },
  {
   "cell_type": "code",
   "execution_count": 4,
   "id": "98d6202f-4f16-4f32-9e14-ae9feac8a5ed",
   "metadata": {
    "tags": []
   },
   "outputs": [
    {
     "name": "stdout",
     "output_type": "stream",
     "text": [
      "<class 'list'>\n"
     ]
    }
   ],
   "source": [
    "x = [\"red\", \"green\", \"blue\"]\n",
    "print(type(x))\n"
   ]
  },
  {
   "cell_type": "markdown",
   "id": "01e1f601-78a4-4cd5-b485-5d8bf0147fe6",
   "metadata": {
    "tags": []
   },
   "source": [
    "Data Structures:"
   ]
  },
  {
   "cell_type": "code",
   "execution_count": 7,
   "id": "c03f8430-dfae-480a-83e5-0428f80fb6ce",
   "metadata": {
    "tags": []
   },
   "outputs": [
    {
     "name": "stdout",
     "output_type": "stream",
     "text": [
      "['red', 'green', 'blue']\n"
     ]
    }
   ],
   "source": [
    "list = [\"red\", \"green\", \"blue\"]\n",
    "print(list)"
   ]
  },
  {
   "cell_type": "code",
   "execution_count": 19,
   "id": "35992ab3-9f1a-4905-89cf-7f0fee574795",
   "metadata": {
    "tags": []
   },
   "outputs": [
    {
     "name": "stdout",
     "output_type": "stream",
     "text": [
      "{'firstName': 'Mark', 'lastName': 'Lundgaard'}\n",
      "Printing by using key:\n",
      "Mark\n",
      "Printing by using get:\n",
      "Mark\n",
      "Printing by using Dictionary Comprehension\n",
      "{1: 1, 2: 4, 3: 9, 4: 16, 5: 25}\n"
     ]
    }
   ],
   "source": [
    "dict = {\"firstName\": \"Mark\", \"lastName\": \"Lundgaard\"}\n",
    "print(dict)\n",
    "\n",
    "print(\"Printing by using key:\")\n",
    "print(dict[\"firstName\"])\n",
    "\n",
    "print(\"Printing by using get:\")\n",
    "print(dict.get(\"firstName\"))\n",
    "\n",
    "print(\"Printing by using Dictionary Comprehension\")\n",
    "myDict = {x: x**2 for x in [1,2,3,4,5]}\n",
    "print(myDict)"
   ]
  },
  {
   "cell_type": "code",
   "execution_count": null,
   "id": "d8b085aa-783d-42b1-8d76-87560d29e4e3",
   "metadata": {},
   "outputs": [],
   "source": []
  },
  {
   "cell_type": "markdown",
   "id": "73eab1fb-77d8-4091-b578-74104cd6a612",
   "metadata": {},
   "source": [
    "### Task 4 and Task 5"
   ]
  },
  {
   "cell_type": "code",
   "execution_count": null,
   "id": "59b28867-0750-4873-b810-82f1d59fb71a",
   "metadata": {},
   "outputs": [],
   "source": [
    "Research numpy/pandas/matplotlib/seaborn"
   ]
  },
  {
   "cell_type": "code",
   "execution_count": 2,
   "id": "338f59bc-2754-48b5-959f-d61b32f37d80",
   "metadata": {
    "tags": []
   },
   "outputs": [
    {
     "name": "stdout",
     "output_type": "stream",
     "text": [
      "Original Array:\n",
      "[ 1  2  3  4  5  6  7  8  9 10 11 12]\n",
      "\n",
      "Reshaped Array:\n",
      "[[ 1  2  3  4]\n",
      " [ 5  6  7  8]\n",
      " [ 9 10 11 12]]\n"
     ]
    }
   ],
   "source": [
    "# numpy\n",
    "\n",
    "import numpy as np\n",
    "\n",
    "# Creating a 1D array with 12 elements\n",
    "original_array = np.arange(1, 13)  # This will create an array with elements from 1 to 12\n",
    "\n",
    "print(\"Original Array:\")\n",
    "print(original_array)\n",
    "\n",
    "# Reshaping the array to 3 rows and 4 columns\n",
    "reshaped_array = np.reshape(original_array, (3, 4))\n",
    "\n",
    "print(\"\\nReshaped Array:\")\n",
    "print(reshaped_array)\n"
   ]
  },
  {
   "cell_type": "code",
   "execution_count": 3,
   "id": "2d9dfa6d-da11-44b6-be18-c9909ff768b2",
   "metadata": {
    "tags": []
   },
   "outputs": [
    {
     "name": "stdout",
     "output_type": "stream",
     "text": [
      "      Name  Age         City\n",
      "0    Alice   30     New York\n",
      "1      Bob   25  Los Angeles\n",
      "2  Charlie   35      Chicago\n",
      "3    Diana   28        Miami\n"
     ]
    }
   ],
   "source": [
    "# pandas\n",
    "\n",
    "import pandas as pd\n",
    "\n",
    "# Getting the csv file path\n",
    "file_path = \"task4.csv\"\n",
    "\n",
    "# Reading the CSV file into a DataFrame\n",
    "data = pd.read_csv(file_path)\n",
    "\n",
    "# Displaying the first few rows of the DataFrame\n",
    "print(data.head())\n"
   ]
  },
  {
   "cell_type": "code",
   "execution_count": 6,
   "id": "c665ca4d-b251-444e-aeb0-b4723a20c307",
   "metadata": {
    "tags": []
   },
   "outputs": [
    {
     "data": {
      "image/png": "[encoded data removed]",
      "text/plain": [
       "<Figure size 640x480 with 1 Axes>"
      ]
     },
     "metadata": {},
     "output_type": "display_data"
    }
   ],
   "source": [
    "# matplotlib\n",
    "\n",
    "import matplotlib.pyplot as plt\n",
    "\n",
    "# Sample data\n",
    "x = [0, 1, 2, 3, 4, 5]  # x-axis values\n",
    "y = [0, 1, 4, 9, 16, 25]  # y-axis values (y = x^2)\n",
    "\n",
    "# Creating the plot\n",
    "plt.plot(x, y)\n",
    "\n",
    "# Adding title\n",
    "plt.title('Sample Plot')\n",
    "\n",
    "# Adding labels to the axes\n",
    "plt.xlabel('X Axis Label')\n",
    "plt.ylabel('Y Axis Label')\n",
    "\n",
    "# Showing the plot\n",
    "plt.show()\n"
   ]
  },
  {
   "cell_type": "code",
   "execution_count": 7,
   "id": "30a5dc6e-b0f4-429a-be63-06388fabb98c",
   "metadata": {
    "tags": []
   },
   "outputs": [
    {
     "data": {
      "image/png": "[encoded data removed]",
      "text/plain": [
       "<Figure size 640x480 with 1 Axes>"
      ]
     },
     "metadata": {},
     "output_type": "display_data"
    }
   ],
   "source": [
    "# seaborn\n",
    "\n",
    "import seaborn as sns\n",
    "import matplotlib.pyplot as plt\n",
    "\n",
    "# Loading an example dataset from Seaborn called tips\n",
    "tips = sns.load_dataset(\"tips\")\n",
    "\n",
    "# Creating a scatter plot\n",
    "# Here we plot 'total_bill' on the x-axis and 'tip' on the y-axis\n",
    "sns.scatterplot(x=\"total_bill\", y=\"tip\", data=tips)\n",
    "\n",
    "# Adding a title to the plot\n",
    "plt.title('Tip Amount vs Total Bill')\n",
    "\n",
    "# Showing the plot\n",
    "plt.show()\n",
    "\n",
    "# This scatter plot shows the relationship between the total bill and tip amount.\n"
   ]
  },
  {
   "cell_type": "markdown",
   "id": "5126de89-4789-4863-9dd9-f3eab227867e",
   "metadata": {
    "tags": []
   },
   "source": [
    "### Task 6"
   ]
  },
  {
   "cell_type": "code",
   "execution_count": null,
   "id": "ae47fb12-78a0-4aea-8330-90b48a5260f8",
   "metadata": {},
   "outputs": [],
   "source": [
    "# Read the \"use of AI\" guidelines for students."
   ]
  }
 ],
 "metadata": {
  "kernelspec": {
   "display_name": "Python 3 (ipykernel)",
   "language": "python",
   "name": "python3"
  },
  "language_info": {
   "codemirror_mode": {
    "name": "ipython",
    "version": 3
   },
   "file_extension": ".py",
   "mimetype": "text/x-python",
   "name": "python",
   "nbconvert_exporter": "python",
   "pygments_lexer": "ipython3",
   "version": "3.11.5"
  }
 },
 "nbformat": 4,
 "nbformat_minor": 5
}

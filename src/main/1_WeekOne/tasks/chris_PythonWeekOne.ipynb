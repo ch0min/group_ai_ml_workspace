{
 "cells": [
  {
   "cell_type": "markdown",
   "id": "a7049c35",
   "metadata": {},
   "source": [
    "# Jupyter notebook week one"
   ]
  },
  {
   "cell_type": "code",
   "execution_count": 49,
   "id": "9f3b8400",
   "metadata": {},
   "outputs": [],
   "source": [
    "import math\n",
    "import numpy as np\n",
    "import pandas as pd\n",
    "import matplotlib.pyplot as plt\n",
    "import seaborn as sns"
   ]
  },
  {
   "cell_type": "markdown",
   "id": "0f74ea4e",
   "metadata": {},
   "source": [
    "# Magic commands"
   ]
  },
  {
   "cell_type": "markdown",
   "id": "2a9af515",
   "metadata": {},
   "source": [
    "To get a list of all the magic commands you can type the following:"
   ]
  },
  {
   "cell_type": "code",
   "execution_count": 31,
   "id": "e0ef1992",
   "metadata": {},
   "outputs": [
    {
     "data": {
      "application/json": {
       "cell": {
        "!": "OSMagics",
        "HTML": "Other",
        "SVG": "Other",
        "bash": "Other",
        "capture": "ExecutionMagics",
        "code_wrap": "ExecutionMagics",
        "debug": "ExecutionMagics",
        "file": "Other",
        "html": "DisplayMagics",
        "javascript": "DisplayMagics",
        "js": "DisplayMagics",
        "latex": "DisplayMagics",
        "markdown": "DisplayMagics",
        "perl": "Other",
        "prun": "ExecutionMagics",
        "pypy": "Other",
        "python": "Other",
        "python2": "Other",
        "python3": "Other",
        "ruby": "Other",
        "script": "ScriptMagics",
        "sh": "Other",
        "svg": "DisplayMagics",
        "sx": "OSMagics",
        "system": "OSMagics",
        "time": "ExecutionMagics",
        "timeit": "ExecutionMagics",
        "writefile": "OSMagics"
       },
       "line": {
        "alias": "OSMagics",
        "alias_magic": "BasicMagics",
        "autoawait": "AsyncMagics",
        "autocall": "AutoMagics",
        "automagic": "AutoMagics",
        "autosave": "KernelMagics",
        "bookmark": "OSMagics",
        "cat": "Other",
        "cd": "OSMagics",
        "clear": "KernelMagics",
        "code_wrap": "ExecutionMagics",
        "colors": "BasicMagics",
        "conda": "PackagingMagics",
        "config": "ConfigMagics",
        "connect_info": "KernelMagics",
        "cp": "Other",
        "debug": "ExecutionMagics",
        "dhist": "OSMagics",
        "dirs": "OSMagics",
        "doctest_mode": "BasicMagics",
        "ed": "Other",
        "edit": "KernelMagics",
        "env": "OSMagics",
        "gui": "BasicMagics",
        "hist": "Other",
        "history": "HistoryMagics",
        "killbgscripts": "ScriptMagics",
        "ldir": "Other",
        "less": "KernelMagics",
        "lf": "Other",
        "lk": "Other",
        "ll": "Other",
        "load": "CodeMagics",
        "load_ext": "ExtensionMagics",
        "loadpy": "CodeMagics",
        "logoff": "LoggingMagics",
        "logon": "LoggingMagics",
        "logstart": "LoggingMagics",
        "logstate": "LoggingMagics",
        "logstop": "LoggingMagics",
        "ls": "Other",
        "lsmagic": "BasicMagics",
        "lx": "Other",
        "macro": "ExecutionMagics",
        "magic": "BasicMagics",
        "man": "KernelMagics",
        "matplotlib": "PylabMagics",
        "mkdir": "Other",
        "more": "KernelMagics",
        "mv": "Other",
        "notebook": "BasicMagics",
        "page": "BasicMagics",
        "pastebin": "CodeMagics",
        "pdb": "ExecutionMagics",
        "pdef": "NamespaceMagics",
        "pdoc": "NamespaceMagics",
        "pfile": "NamespaceMagics",
        "pinfo": "NamespaceMagics",
        "pinfo2": "NamespaceMagics",
        "pip": "PackagingMagics",
        "popd": "OSMagics",
        "pprint": "BasicMagics",
        "precision": "BasicMagics",
        "prun": "ExecutionMagics",
        "psearch": "NamespaceMagics",
        "psource": "NamespaceMagics",
        "pushd": "OSMagics",
        "pwd": "OSMagics",
        "pycat": "OSMagics",
        "pylab": "PylabMagics",
        "qtconsole": "KernelMagics",
        "quickref": "BasicMagics",
        "recall": "HistoryMagics",
        "rehashx": "OSMagics",
        "reload_ext": "ExtensionMagics",
        "rep": "Other",
        "rerun": "HistoryMagics",
        "reset": "NamespaceMagics",
        "reset_selective": "NamespaceMagics",
        "rm": "Other",
        "rmdir": "Other",
        "run": "ExecutionMagics",
        "save": "CodeMagics",
        "sc": "OSMagics",
        "set_env": "OSMagics",
        "store": "StoreMagics",
        "sx": "OSMagics",
        "system": "OSMagics",
        "tb": "ExecutionMagics",
        "time": "ExecutionMagics",
        "timeit": "ExecutionMagics",
        "unalias": "OSMagics",
        "unload_ext": "ExtensionMagics",
        "who": "NamespaceMagics",
        "who_ls": "NamespaceMagics",
        "whos": "NamespaceMagics",
        "xdel": "NamespaceMagics",
        "xmode": "BasicMagics"
       }
      },
      "text/plain": [
       "Available line magics:\n",
       "%alias  %alias_magic  %autoawait  %autocall  %automagic  %autosave  %bookmark  %cat  %cd  %clear  %code_wrap  %colors  %conda  %config  %connect_info  %cp  %debug  %dhist  %dirs  %doctest_mode  %ed  %edit  %env  %gui  %hist  %history  %killbgscripts  %ldir  %less  %lf  %lk  %ll  %load  %load_ext  %loadpy  %logoff  %logon  %logstart  %logstate  %logstop  %ls  %lsmagic  %lx  %macro  %magic  %man  %matplotlib  %mkdir  %more  %mv  %notebook  %page  %pastebin  %pdb  %pdef  %pdoc  %pfile  %pinfo  %pinfo2  %pip  %popd  %pprint  %precision  %prun  %psearch  %psource  %pushd  %pwd  %pycat  %pylab  %qtconsole  %quickref  %recall  %rehashx  %reload_ext  %rep  %rerun  %reset  %reset_selective  %rm  %rmdir  %run  %save  %sc  %set_env  %store  %sx  %system  %tb  %time  %timeit  %unalias  %unload_ext  %who  %who_ls  %whos  %xdel  %xmode\n",
       "\n",
       "Available cell magics:\n",
       "%%!  %%HTML  %%SVG  %%bash  %%capture  %%code_wrap  %%debug  %%file  %%html  %%javascript  %%js  %%latex  %%markdown  %%perl  %%prun  %%pypy  %%python  %%python2  %%python3  %%ruby  %%script  %%sh  %%svg  %%sx  %%system  %%time  %%timeit  %%writefile\n",
       "\n",
       "Automagic is ON, % prefix IS NOT needed for line magics."
      ]
     },
     "execution_count": 31,
     "metadata": {},
     "output_type": "execute_result"
    }
   ],
   "source": [
    "Practice \"magic\" commands, examples:"
   ]
  },
  {
   "cell_type": "markdown",
   "id": "60b463d3",
   "metadata": {},
   "source": [
    "Below is an example that demonstrates how long it takes to run the whole code cell in miliseconds by using the %%time. "
   ]
  },
  {
   "cell_type": "code",
   "execution_count": 4,
   "id": "ae6c125d",
   "metadata": {},
   "outputs": [
    {
     "name": "stdout",
     "output_type": "stream",
     "text": [
      "CPU times: user 359 ms, sys: 3.16 ms, total: 362 ms\n",
      "Wall time: 365 ms\n"
     ]
    }
   ],
   "source": [
    "%%time\n",
    "for i in range(10000000):\n",
    "    pass\n"
   ]
  },
  {
   "cell_type": "markdown",
   "id": "7b6ced26",
   "metadata": {},
   "source": [
    "Below is an example that renders text into HTML"
   ]
  },
  {
   "cell_type": "code",
   "execution_count": 13,
   "id": "6db7cc53",
   "metadata": {},
   "outputs": [
    {
     "data": {
      "text/html": [
       "<h1>This is an HTML cell</h1>\n"
      ],
      "text/plain": [
       "<IPython.core.display.HTML object>"
      ]
     },
     "metadata": {},
     "output_type": "display_data"
    }
   ],
   "source": [
    "%%html\n",
    "<h1>This is an HTML cell</h1>"
   ]
  },
  {
   "cell_type": "markdown",
   "id": "8479af3f",
   "metadata": {},
   "source": [
    "Below is an example of how to run shell commands in a code cell"
   ]
  },
  {
   "cell_type": "code",
   "execution_count": 15,
   "id": "c08a448c",
   "metadata": {},
   "outputs": [
    {
     "name": "stdout",
     "output_type": "stream",
     "text": [
      "total 16\n",
      "-rw-r--r--  1 christoffernielsen  staff   851 Jan 29 10:21 PythonTest.ipynb\n",
      "-rw-r--r--  1 christoffernielsen  staff  2157 Jan 29 10:56 Untitled.ipynb\n"
     ]
    }
   ],
   "source": [
    "%%bash\n",
    "ls -l\n"
   ]
  },
  {
   "cell_type": "markdown",
   "id": "4d22a152",
   "metadata": {},
   "source": [
    "Below is an example on how to write the content of a code cell into a file"
   ]
  },
  {
   "cell_type": "code",
   "execution_count": 27,
   "id": "91288e64",
   "metadata": {},
   "outputs": [
    {
     "name": "stdout",
     "output_type": "stream",
     "text": [
      "Writing my_file.py\n"
     ]
    }
   ],
   "source": [
    "%%writefile my_file.py\n",
    "print(\"Hello, world!\")\n",
    "\n",
    "\n",
    "\n"
   ]
  },
  {
   "cell_type": "markdown",
   "id": "5a682de4",
   "metadata": {},
   "source": [
    "Below is an example of how to view the last 10 commands that were run "
   ]
  },
  {
   "cell_type": "code",
   "execution_count": 28,
   "id": "14545dcd",
   "metadata": {},
   "outputs": [
    {
     "name": "stdout",
     "output_type": "stream",
     "text": [
      "   1: import math\n",
      "   2: %time\n",
      "   3: %time 10*45/2\n",
      "   4: %time 10+2\n",
      "   5:\n",
      "%%time\n",
      "for i in range(1000000):\n",
      "    pass\n",
      "   6:\n",
      "%%time\n",
      "for i in range(10000000):\n",
      "    pass\n",
      "   7:\n",
      "%time\n",
      "for i in range(10000000):\n",
      "    pass\n",
      "   8:\n",
      "%%time\n",
      "for i in range(10000000):\n",
      "    pass\n",
      "   9: import math\n",
      "  10:\n",
      "%%%time\n",
      "for i in range(10000000):\n",
      "    pass\n"
     ]
    }
   ],
   "source": [
    "%history -n 1-10\n"
   ]
  },
  {
   "cell_type": "markdown",
   "id": "5d3aedae",
   "metadata": {},
   "source": [
    "# Python flow of control"
   ]
  },
  {
   "cell_type": "markdown",
   "id": "f5f4f084",
   "metadata": {},
   "source": [
    "Python flow of control refers to the order in which Python executes instructions within a program. It follows a sequential path from top to bottom by default but can be influenced by conditionals (if statements), loops (for and while loops), function calls, and exception handling. Python decides which code to run and when based on these control structures and the logic defined in the program. "
   ]
  },
  {
   "cell_type": "code",
   "execution_count": 40,
   "id": "a47b45e1",
   "metadata": {},
   "outputs": [
    {
     "name": "stdout",
     "output_type": "stream",
     "text": [
      "x is greater than 5\n"
     ]
    }
   ],
   "source": [
    "# Python flow of control example\n",
    "\n",
    "# A variable with a numeric value\n",
    "x = 10\n",
    "\n",
    "# Conditional statement to check if x is greater than 5\n",
    "if x > 5:\n",
    "    print(\"x is greater than 5\")\n",
    "else:\n",
    "    print(\"x is not greater than 5\")\n",
    "\n",
    "# Output:\n",
    "# x is greater than 5\n"
   ]
  },
  {
   "cell_type": "markdown",
   "id": "536d4a71",
   "metadata": {},
   "source": [
    "# Data types & data structures"
   ]
  },
  {
   "cell_type": "code",
   "execution_count": 41,
   "id": "d90a538b",
   "metadata": {},
   "outputs": [
    {
     "name": "stdout",
     "output_type": "stream",
     "text": [
      "5\n",
      "3.14\n",
      "Alice\n",
      "True\n",
      "apple\n",
      "4\n",
      "True\n",
      "30\n"
     ]
    }
   ],
   "source": [
    "# Python data types and data structures example\n",
    "\n",
    "# Data Types\n",
    "# Integer\n",
    "x = 5\n",
    "\n",
    "# Float\n",
    "y = 3.14\n",
    "\n",
    "# String\n",
    "name = \"Alice\"\n",
    "\n",
    "# Boolean\n",
    "is_student = True\n",
    "\n",
    "# Data Structures\n",
    "# Lists (Ordered, Mutable)\n",
    "fruits = [\"apple\", \"banana\", \"cherry\"]\n",
    "\n",
    "# Tuples (Ordered, Immutable)\n",
    "coordinates = (3, 4)\n",
    "\n",
    "# Sets (Unordered, Mutable, No Duplicates)\n",
    "colors = {\"red\", \"green\", \"blue\"}\n",
    "\n",
    "# Dictionaries (Key-Value Pairs)\n",
    "person = {\"name\": \"Bob\", \"age\": 30, \"is_student\": False}\n",
    "\n",
    "# Accessing and printing data\n",
    "print(x)                 # Output: 5\n",
    "print(y)                 # Output: 3.14\n",
    "print(name)              # Output: Alice\n",
    "print(is_student)        # Output: True\n",
    "print(fruits[0])         # Output: apple\n",
    "print(coordinates[1])    # Output: 4\n",
    "print(\"red\" in colors)   # Output: True\n",
    "print(person[\"age\"])     # Output: 30"
   ]
  },
  {
   "cell_type": "markdown",
   "id": "15dd1851",
   "metadata": {},
   "source": [
    "# Numpy"
   ]
  },
  {
   "cell_type": "code",
   "execution_count": 43,
   "id": "527d6187",
   "metadata": {},
   "outputs": [
    {
     "name": "stdout",
     "output_type": "stream",
     "text": [
      "Original array: [1 2 3 4 5]\n",
      "Result: [ 2  4  6  8 10]\n"
     ]
    }
   ],
   "source": [
    "# Creating a NumPy array\n",
    "my_array = np.array([1, 2, 3, 4, 5])\n",
    "\n",
    "# Performing operations on the array\n",
    "result = my_array * 2  # Multiply each element by 2\n",
    "\n",
    "# Printing the array and result\n",
    "print(\"Original array:\", my_array)\n",
    "print(\"Result:\", result)"
   ]
  },
  {
   "cell_type": "markdown",
   "id": "55945109",
   "metadata": {},
   "source": [
    "# Pandas"
   ]
  },
  {
   "cell_type": "code",
   "execution_count": 46,
   "id": "85aace6a",
   "metadata": {},
   "outputs": [
    {
     "name": "stdout",
     "output_type": "stream",
     "text": [
      "DataFrame:\n",
      "      Name  Age\n",
      "0    Alice   25\n",
      "1      Bob   30\n",
      "2  Charlie   35\n",
      "3    David   28\n",
      "\n",
      "Filtered DataFrame:\n",
      "      Name  Age\n",
      "1      Bob   30\n",
      "2  Charlie   35\n"
     ]
    }
   ],
   "source": [
    "# Creating a DataFrame\n",
    "data = {'Name': ['Alice', 'Bob', 'Charlie', 'David'],\n",
    "        'Age': [25, 30, 35, 28]}\n",
    "\n",
    "df = pd.DataFrame(data)\n",
    "\n",
    "# Displaying the DataFrame\n",
    "print(\"DataFrame:\")\n",
    "print(df)\n",
    "\n",
    "# Filtering data\n",
    "filtered_df = df[df['Age'] >= 30]\n",
    "\n",
    "# Printing the filtered DataFrame\n",
    "print(\"\\nFiltered DataFrame:\")\n",
    "print(filtered_df)"
   ]
  },
  {
   "cell_type": "markdown",
   "id": "2bf5a344",
   "metadata": {},
   "source": [
    "# Matplotlib"
   ]
  },
  {
   "cell_type": "code",
   "execution_count": 48,
   "id": "ff23d828",
   "metadata": {},
   "outputs": [
    {
     "data": {
      "image/png": "[encoded data removed]",
      "text/plain": [
       "<Figure size 640x480 with 1 Axes>"
      ]
     },
     "metadata": {},
     "output_type": "display_data"
    }
   ],
   "source": [
    "# Sample data\n",
    "x = [1, 2, 3, 4, 5]\n",
    "y = [10, 8, 6, 4, 2]\n",
    "\n",
    "# Create a line plot\n",
    "plt.plot(x, y, marker='o', linestyle='-', color='b', label='Line Plot')\n",
    "\n",
    "# Adding labels and a legend\n",
    "plt.xlabel('X-axis')\n",
    "plt.ylabel('Y-axis')\n",
    "plt.title('Sample Line Plot')\n",
    "plt.legend()\n",
    "\n",
    "# Display the plot\n",
    "plt.show()"
   ]
  },
  {
   "cell_type": "markdown",
   "id": "df5eeffe",
   "metadata": {},
   "source": [
    "# Seaborn"
   ]
  },
  {
   "cell_type": "code",
   "execution_count": 50,
   "id": "9f152d49",
   "metadata": {},
   "outputs": [
    {
     "data": {
      "image/png": "[encoded data removed]",
      "text/plain": [
       "<Figure size 640x480 with 1 Axes>"
      ]
     },
     "metadata": {},
     "output_type": "display_data"
    }
   ],
   "source": [
    "# Sample data\n",
    "x = [1, 2, 3, 4, 5]\n",
    "y = [10, 8, 6, 4, 2]\n",
    "\n",
    "# Create a scatter plot with a regression line\n",
    "sns.regplot(x=x, y=y, scatter=True, color='b', label='Scatter Plot')\n",
    "\n",
    "# Adding labels and a legend\n",
    "plt.xlabel('X-axis')\n",
    "plt.ylabel('Y-axis')\n",
    "plt.title('Sample Scatter Plot with Regression Line')\n",
    "plt.legend()\n",
    "\n",
    "# Display the plot\n",
    "plt.show()"
   ]
  },
  {
   "cell_type": "code",
   "execution_count": null,
   "id": "417f7b77",
   "metadata": {},
   "outputs": [],
   "source": []
  }
 ],
 "metadata": {
  "kernelspec": {
   "display_name": "Python 3 (ipykernel)",
   "language": "python",
   "name": "python3"
  },
  "language_info": {
   "codemirror_mode": {
    "name": "ipython",
    "version": 3
   },
   "file_extension": ".py",
   "mimetype": "text/x-python",
   "name": "python",
   "nbconvert_exporter": "python",
   "pygments_lexer": "ipython3",
   "version": "3.11.5"
  }
 },
 "nbformat": 4,
 "nbformat_minor": 5
}

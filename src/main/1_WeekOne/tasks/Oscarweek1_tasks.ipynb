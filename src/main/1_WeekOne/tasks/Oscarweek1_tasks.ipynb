{
 "cells": [
  {
   "cell_type": "markdown",
   "id": "8c092538-c285-430a-b124-2497101ec332",
   "metadata": {},
   "source": [
    "### Task 1"
   ]
  },
  {
   "cell_type": "markdown",
   "id": "962c7a68-f873-4ea1-a5db-98a12f1003a1",
   "metadata": {},
   "source": [
    "Practice \"magic\" commands, examples:"
   ]
  },
  {
   "cell_type": "code",
   "execution_count": 16,
   "id": "ec8dfb2d-d614-4e50-b3d7-eec500082514",
   "metadata": {
    "tags": []
   },
   "outputs": [
    {
     "name": "stdout",
     "output_type": "stream",
     "text": [
      "week1_tasks.ipynb\n"
     ]
    },
    {
     "data": {
      "text/plain": [
       "'/Users/marklundgaard/Desktop/SoftDev/1sem/AI-ML/JupyterNotebook_Extra'"
      ]
     },
     "execution_count": 16,
     "metadata": {},
     "output_type": "execute_result"
    }
   ],
   "source": [
    "%ls\n",
    "%pwd"
   ]
  },
  {
   "cell_type": "markdown",
   "id": "c8720f4d-0a3c-465a-a5f0-488f37cdc350",
   "metadata": {},
   "source": [
    "Below is an example of a line magic command"
   ]
  },
  {
   "cell_type": "code",
   "execution_count": 13,
   "id": "c4226456-164e-4c45-be01-06fcc6fdd03b",
   "metadata": {
    "tags": []
   },
   "outputs": [
    {
     "name": "stdout",
     "output_type": "stream",
     "text": [
      "CPU times: user 36 µs, sys: 2 µs, total: 38 µs\n",
      "Wall time: 45.1 µs\n"
     ]
    }
   ],
   "source": [
    "%time squares = [x**2 for x in range(1, 100)]"
   ]
  },
  {
   "cell_type": "markdown",
   "id": "d8156cc5-d6ec-453b-953e-72a34b73178a",
   "metadata": {},
   "source": [
    "Below is an example of a cell magic command"
   ]
  },
  {
   "cell_type": "code",
   "execution_count": 3,
   "id": "c30f7462-0c50-4ff2-b1a2-6b04ef6a526e",
   "metadata": {
    "tags": []
   },
   "outputs": [
    {
     "name": "stdout",
     "output_type": "stream",
     "text": [
      "CPU times: user 23 µs, sys: 1 µs, total: 24 µs\n",
      "Wall time: 27.2 µs\n"
     ]
    }
   ],
   "source": [
    "%%time\n",
    "x = [n**2 for n in range(100)]\n",
    "y = [n**3 for n in range(100)]\n"
   ]
  },
  {
   "cell_type": "code",
   "execution_count": null,
   "id": "e5501a4c-10a9-4a7d-a142-156fa32c63c1",
   "metadata": {},
   "outputs": [],
   "source": []
  },
  {
   "cell_type": "markdown",
   "id": "8871086b-91c5-421a-8a03-77b90bdf955f",
   "metadata": {
    "tags": []
   },
   "source": [
    "### Task 2"
   ]
  },
  {
   "cell_type": "markdown",
   "id": "b7372d68-8588-446a-83f8-420f255eb4fe",
   "metadata": {},
   "source": [
    "Python flow of control show how Python handles it:"
   ]
  },
  {
   "cell_type": "markdown",
   "id": "07038ef6-c112-4f92-9d19-182a1ca72743",
   "metadata": {
    "tags": []
   },
   "source": [
    "Flow of control in Python refers to the order in which the program's instructions are executed. This control flow is managed using various constructs such as conditional statements, loops, and function calls. "
   ]
  },
  {
   "cell_type": "code",
   "execution_count": 20,
   "id": "920db81e-20a0-4541-874b-bff3b728ba35",
   "metadata": {
    "tags": []
   },
   "outputs": [
    {
     "name": "stdout",
     "output_type": "stream",
     "text": [
      "1\n",
      "3\n",
      "5\n",
      "7\n",
      "9\n"
     ]
    }
   ],
   "source": [
    "for i in range(1, 11):\n",
    "    if i % 2 == 0:\n",
    "        continue\n",
    "    print(i)"
   ]
  },
  {
   "cell_type": "markdown",
   "id": "4dae884a-e177-4745-a91e-109a6107df89",
   "metadata": {
    "tags": []
   },
   "source": [
    "### Task 3"
   ]
  },
  {
   "cell_type": "markdown",
   "id": "fc60a88c-e256-41d9-98ca-31e480d6be11",
   "metadata": {},
   "source": [
    "Data types and Data Structures"
   ]
  },
  {
   "cell_type": "code",
   "execution_count": null,
   "id": "3021ab65-fb9f-4bf6-bf36-98a1e4226078",
   "metadata": {
    "tags": []
   },
   "outputs": [],
   "source": [
    "Data Types:\n",
    "\n",
    "Text Type:\tstr\n",
    "Numeric Types:\tint, float, complex\n",
    "Sequence Types:\tlist, tuple, range\n",
    "Mapping Type:\tdict\n",
    "Set Types:\tset, frozenset\n",
    "Boolean Type:\tbool\n",
    "Binary Types:\tbytes, bytearray, memoryview\n",
    "None Type:\tNoneType"
   ]
  },
  {
   "cell_type": "code",
   "execution_count": 4,
   "id": "98d6202f-4f16-4f32-9e14-ae9feac8a5ed",
   "metadata": {
    "tags": []
   },
   "outputs": [
    {
     "name": "stdout",
     "output_type": "stream",
     "text": [
      "<class 'list'>\n"
     ]
    }
   ],
   "source": [
    "x = [\"red\", \"green\", \"blue\"]\n",
    "print(type(x))\n"
   ]
  },
  {
   "cell_type": "markdown",
   "id": "01e1f601-78a4-4cd5-b485-5d8bf0147fe6",
   "metadata": {
    "tags": []
   },
   "source": [
    "Data Structures:"
   ]
  },
  {
   "cell_type": "code",
   "execution_count": 7,
   "id": "c03f8430-dfae-480a-83e5-0428f80fb6ce",
   "metadata": {
    "tags": []
   },
   "outputs": [
    {
     "name": "stdout",
     "output_type": "stream",
     "text": [
      "['red', 'green', 'blue']\n"
     ]
    }
   ],
   "source": [
    "list = [\"red\", \"green\", \"blue\"]\n",
    "print(list)"
   ]
  },
  {
   "cell_type": "code",
   "execution_count": 19,
   "id": "35992ab3-9f1a-4905-89cf-7f0fee574795",
   "metadata": {
    "tags": []
   },
   "outputs": [
    {
     "name": "stdout",
     "output_type": "stream",
     "text": [
      "{'firstName': 'Mark', 'lastName': 'Lundgaard'}\n",
      "Printing by using key:\n",
      "Mark\n",
      "Printing by using get:\n",
      "Mark\n",
      "Printing by using Dictionary Comprehension\n",
      "{1: 1, 2: 4, 3: 9, 4: 16, 5: 25}\n"
     ]
    }
   ],
   "source": [
    "dict = {\"firstName\": \"Mark\", \"lastName\": \"Lundgaard\"}\n",
    "print(dict)\n",
    "\n",
    "print(\"Printing by using key:\")\n",
    "print(dict[\"firstName\"])\n",
    "\n",
    "print(\"Printing by using get:\")\n",
    "print(dict.get(\"firstName\"))\n",
    "\n",
    "print(\"Printing by using Dictionary Comprehension\")\n",
    "myDict = {x: x**2 for x in [1,2,3,4,5]}\n",
    "print(myDict)"
   ]
  },
  {
   "cell_type": "code",
   "execution_count": null,
   "id": "d8b085aa-783d-42b1-8d76-87560d29e4e3",
   "metadata": {},
   "outputs": [],
   "source": []
  },
  {
   "cell_type": "code",
   "execution_count": null,
   "id": "eaa37344-6703-410c-a07b-603af0ea572c",
   "metadata": {},
   "outputs": [],
   "source": []
  }
 ],
 "metadata": {
  "kernelspec": {
   "display_name": "Python 3 (ipykernel)",
   "language": "python",
   "name": "python3"
  },
  "language_info": {
   "codemirror_mode": {
    "name": "ipython",
    "version": 3
   },
   "file_extension": ".py",
   "mimetype": "text/x-python",
   "name": "python",
   "nbconvert_exporter": "python",
   "pygments_lexer": "ipython3",
   "version": "3.11.5"
  }
 },
 "nbformat": 4,
 "nbformat_minor": 5
}

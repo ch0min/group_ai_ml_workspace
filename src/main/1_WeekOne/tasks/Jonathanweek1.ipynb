{
 "cells": [
  {
   "cell_type": "markdown",
   "id": "10976a4c-5666-47f2-b14b-e0acfd3469eb",
   "metadata": {
    "tags": []
   },
   "source": [
    "### Day 1 task 1 - øv % - %% magic commands"
   ]
  },
  {
   "cell_type": "code",
   "execution_count": 1,
   "id": "1c4a9bd6",
   "metadata": {},
   "outputs": [
    {
     "data": {
      "text/plain": [
       "'C:\\\\Users\\\\Jonathan\\\\AI Machinelearning'"
      ]
     },
     "execution_count": 1,
     "metadata": {},
     "output_type": "execute_result"
    }
   ],
   "source": [
    "%pwd"
   ]
  },
  {
   "cell_type": "code",
   "execution_count": 5,
   "id": "578e7af5-fef3-4c76-8370-3c8d59ce2a8a",
   "metadata": {
    "tags": []
   },
   "outputs": [],
   "source": [
    "%%capture captured_output\n",
    "print(\"This will be captured\")\n",
    "print(\"This will also be captured\")"
   ]
  },
  {
   "cell_type": "code",
   "execution_count": 6,
   "id": "e8223f76-8636-4cd8-9f20-3f8626fdad27",
   "metadata": {
    "tags": []
   },
   "outputs": [
    {
     "name": "stdout",
     "output_type": "stream",
     "text": [
      "This will be captured\n",
      "This will also be captured\n"
     ]
    }
   ],
   "source": [
    "captured_output.show()\n"
   ]
  },
  {
   "cell_type": "code",
   "execution_count": 3,
   "id": "dfcb6524",
   "metadata": {},
   "outputs": [
    {
     "name": "stdout",
     "output_type": "stream",
     "text": [
      " Volume in drive C has no label.\n",
      " Volume Serial Number is 36B9-2EC3\n",
      "\n",
      " Directory of C:\\Users\\Jonathan\\AI Machinelearning\n",
      "\n",
      "01/29/2024  10:24 AM    <DIR>          .\n",
      "01/29/2024  10:24 AM    <DIR>          ..\n",
      "01/29/2024  10:22 AM    <DIR>          .ipynb_checkpoints\n",
      "01/29/2024  10:24 AM               589 Untitled.ipynb\n",
      "               1 File(s)            589 bytes\n",
      "               3 Dir(s)  189,457,678,336 bytes free\n"
     ]
    }
   ],
   "source": [
    "%ls"
   ]
  },
  {
   "cell_type": "code",
   "execution_count": 4,
   "id": "02b4eefd",
   "metadata": {},
   "outputs": [
    {
     "name": "stdout",
     "output_type": "stream",
     "text": [
      "CPU times: total: 0 ns\n",
      "Wall time: 0 ns\n"
     ]
    }
   ],
   "source": [
    "%time"
   ]
  },
  {
   "cell_type": "code",
   "execution_count": 5,
   "id": "20e9b95d",
   "metadata": {},
   "outputs": [
    {
     "name": "stdout",
     "output_type": "stream",
     "text": [
      "Writing sample.txt\n"
     ]
    }
   ],
   "source": [
    "%%writefile sample.txt\n",
    "Hello, World!\n",
    "This is a test file."
   ]
  },
  {
   "cell_type": "code",
   "execution_count": 7,
   "id": "d61ee653",
   "metadata": {},
   "outputs": [
    {
     "name": "stdout",
     "output_type": "stream",
     "text": [
      "4999950000\n",
      "CPU times: total: 0 ns\n",
      "Wall time: 2 ms\n"
     ]
    }
   ],
   "source": [
    "%%time\n",
    "total = sum(range(100000))\n",
    "print(total)"
   ]
  },
  {
   "cell_type": "markdown",
   "id": "fa71ccd5-6ebf-4fec-abc8-7cf020070566",
   "metadata": {},
   "source": [
    "### Task 2 - Python flow of control showcase"
   ]
  },
  {
   "cell_type": "code",
   "execution_count": null,
   "id": "4f3c0fa8-a88e-4eb6-bee9-49ccdbf67faf",
   "metadata": {},
   "outputs": [],
   "source": [
    "#To demonstrate the flow of control in Python, I'll provide an example that includes several key control flow elements: conditional statements (if/else), loops (for, while)\n",
    "# and function calls. This example will help illustrate how Python handles the flow of control in a program.\n",
    "\n",
    "#Let's create a simple Python script that includes these elements:\n",
    "\n",
    "#Function Definitions: Two functions for different purposes.\n",
    "#Conditional Statements: To make decisions.\n",
    "#Loops: To repeat actions.\n",
    "\n",
    "# Function to check if a number is even\n",
    "def is_even(number):\n",
    "    return number % 2 == 0\n",
    "\n",
    "# Function to print numbers and their even status\n",
    "def print_numbers_and_status(numbers):\n",
    "    for number in numbers:\n",
    "        if is_even(number):\n",
    "            print(f\"{number} is even\")\n",
    "        else:\n",
    "            print(f\"{number} is odd\")\n",
    "\n",
    "# Main flow\n",
    "numbers = range(1, 6)  # Create a range of numbers from 1 to 5\n",
    "print_numbers_and_status(numbers)\n",
    "\n",
    "# Explanation of Flow:\n",
    "# Function Definitions: is_even checks if a number is even. print_numbers_and_status goes through a list of numbers, checks each number (using is_even), and prints whether\n",
    "# it's even or odd.\n",
    "# Loop (for): In print_numbers_and_status, the for loop iterates over the list of numbers\n",
    "# Conditional (if/else): Inside the loop, the if statement checks if the number is even and prints an appropriate message.\n",
    "# Main Flow: A list of numbers is created, and print_numbers_and_status is called with this list.\n",
    "# This script showcases how control flows from function calls to loops and conditionals, demonstrating the typical structure and execution order in a Python program. Feel free to run this script in your Python environment and experiment by adding more control structures or modifying the existing ones!"
   ]
  },
  {
   "cell_type": "markdown",
   "id": "689dee22-bdc8-4f72-ab65-fdb02917fb1e",
   "metadata": {},
   "source": [
    "### Task 3 - Data types and data structures"
   ]
  },
  {
   "cell_type": "code",
   "execution_count": 7,
   "id": "ddec6ce4-13cf-4611-872c-43b5cb94b03e",
   "metadata": {
    "tags": []
   },
   "outputs": [
    {
     "name": "stdout",
     "output_type": "stream",
     "text": [
      "Number: 42\n",
      "Pi: 3.14159\n",
      "Greeting: Hello, world!\n",
      "Fruits: ['apple', 'banana', 'cherry', 'orange']\n",
      "Coordinates: (10.0, 20.0)\n",
      "Person: {'name': 'Alice', 'age': 30, 'city': 'New York'}\n"
     ]
    }
   ],
   "source": [
    "# Python Data Types and Data Structures Example\n",
    "\n",
    "# Integer type\n",
    "number = 42\n",
    "# number is an integer, a basic data type representing whole numbers\n",
    "\n",
    "# Float type\n",
    "pi = 3.14159\n",
    "# pi is a float, representing a number with a decimal point\n",
    "\n",
    "# String type\n",
    "greeting = \"Hello, world!\"\n",
    "# greeting is a string, used for text data\n",
    "\n",
    "# List (a mutable data structure)\n",
    "fruits = [\"apple\", \"banana\", \"cherry\"]\n",
    "# fruits is a list, used to store an ordered collection of items (which can be of varied data types)\n",
    "\n",
    "# Adding an element to the list\n",
    "fruits.append(\"orange\")\n",
    "# Lists are mutable, meaning we can add, remove, or change items\n",
    "\n",
    "# Tuple (an immutable data structure)\n",
    "coordinates = (10.0, 20.0)\n",
    "# coordinates is a tuple, similar to a list but immutable (cannot be modified after creation)\n",
    "\n",
    "# Dictionary (a mutable, key-value data structure)\n",
    "person = {\"name\": \"Alice\", \"age\": 30}\n",
    "# person is a dictionary, storing data in key-value pairs, useful for associating related values\n",
    "\n",
    "# Adding a new key-value pair to the dictionary\n",
    "person[\"city\"] = \"New York\"\n",
    "# Dictionaries are mutable, and new key-value pairs can be added\n",
    "\n",
    "# Displaying the data\n",
    "print(\"Number:\", number)\n",
    "print(\"Pi:\", pi)\n",
    "print(\"Greeting:\", greeting)\n",
    "print(\"Fruits:\", fruits)\n",
    "print(\"Coordinates:\", coordinates)\n",
    "print(\"Person:\", person)\n",
    "\n",
    "#This script demonstrates a variety of Python's built-in data types and structures:\n",
    "\n",
    "#Basic data types like integers, floats, and strings for representing numbers and text.\n",
    "#Complex data structures like lists, tuples, and dictionaries for organizing and storing collections of data.\n",
    "#The mutability of lists and dictionaries, allowing them to be modified after creation.\n",
    "#The immutability of tuples, making them unchangeable once they are created."
   ]
  },
  {
   "cell_type": "markdown",
   "id": "47b2b10c-4668-4965-9fd3-6d762d44b808",
   "metadata": {
    "tags": []
   },
   "source": [
    "### Task 4 - Numpy, Pandas, Matplotlib, Seaborn"
   ]
  },
  {
   "cell_type": "markdown",
   "id": "2f1bcfc7-8eea-4418-8864-c6d5f0c9fed0",
   "metadata": {},
   "source": [
    "#### NumPy (Numerical Python):\n",
    "\n",
    "##### Purpose: NumPy is an essential library for scientific computing in Python. It provides support for large, multi-dimensional arrays and matrices, along with a collection of mathematical functions to operate on these arrays.\n",
    "\n",
    "##### Key Features:\n",
    "\n",
    "##### Efficient Array Computing: At its core, NumPy is built for fast array processing. It offers an efficient way to store and manipulate numerical data with its powerful N-dimensional array object.\n",
    "#### Broad Mathematical Functionality: NumPy includes functions for linear algebra, Fourier transforms, random number generation, and basic statistical operations.\n",
    "##### Foundation for Other Libraries: It serves as the foundational library for more complex scientific applications and libraries in Python, such as Pandas, Matplotlib, SciPy, and many machine learning frameworks.\n",
    "##### Use Cases: Widely used in data analysis, scientific computing, and modeling. NumPy's arrays provide a more efficient and convenient way to handle data than Python's built-in list structure.\n",
    "\n"
   ]
  },
  {
   "cell_type": "code",
   "execution_count": 1,
   "id": "2181042d-7d9a-445c-9bec-546c2e3834e7",
   "metadata": {},
   "outputs": [
    {
     "name": "stdout",
     "output_type": "stream",
     "text": [
      "Original Array: [1 2 3 4 5]\n",
      "Sum of the array elements: 15\n",
      "Mean of the array: 3.0\n",
      "Standard deviation of the array: 1.4142135623730951\n",
      "\n",
      "Matrix:\n",
      "[[1 2 3]\n",
      " [4 5 6]\n",
      " [7 8 9]]\n",
      "Transpose of the matrix:\n",
      "[[1 4 7]\n",
      " [2 5 8]\n",
      " [3 6 9]]\n",
      "Object `here` not found.\n"
     ]
    }
   ],
   "source": [
    "import numpy as np\n",
    "\n",
    "# Creating a NumPy array\n",
    "array = np.array([1, 2, 3, 4, 5])\n",
    "\n",
    "# Basic operations\n",
    "print(\"Original Array:\", array)\n",
    "print(\"Sum of the array elements:\", np.sum(array))\n",
    "print(\"Mean of the array:\", np.mean(array))\n",
    "print(\"Standard deviation of the array:\", np.std(array))\n",
    "\n",
    "# Creating a 2D array (matrix)\n",
    "matrix = np.array([[1, 2, 3], [4, 5, 6], [7, 8, 9]])\n",
    "print(\"\\nMatrix:\")\n",
    "print(matrix)\n",
    "print(\"Transpose of the matrix:\")\n",
    "print(np.transpose(matrix))\n",
    "\n",
    "#What's happening here?\n",
    "\n",
    "#Importing NumPy: First, we import NumPy, typically aliased as np for convenience.\n",
    "#Creating Arrays: We create a one-dimensional array and a two-dimensional array (matrix) using np.array.\n",
    "#Basic Operations: We then perform basic operations like sum, mean, and standard deviation on the one-dimensional array.\n",
    "#Matrix Operations: For the matrix, we demonstrate how to transpose it using np.transpose.\n",
    "#This example gives you a glimpse of NumPy's capabilities in handling arrays and performing mathematical operations. NumPy is incredibly powerful for \n",
    "#numerical computing, forming the foundation for many other Python data science tools."
   ]
  },
  {
   "cell_type": "markdown",
   "id": "9c4fc7ce",
   "metadata": {},
   "source": [
    "#### Pandas (Python Data Analysis Library):\n",
    "\n",
    "#### Purpose: Pandas is a powerful, flexible data analysis and manipulation tool, built on top of the Python programming language. It offers data structures and operations for manipulating numerical tables and time series.\n",
    "\n",
    "#### Key Features:\n",
    "\n",
    "#### DataFrames and Series: Pandas provides two primary data structures - DataFrames and Series. DataFrames represent tabular, spreadsheet-like data, while Series are one-dimensional arrays with axis labels.\n",
    "#### Data Manipulation Tools: It includes comprehensive tools for reading and writing data, handling missing data, filtering, and more.\n",
    "#### Integrated with Many Data Sources: Pandas can work with a variety of data formats (CSV, Excel, SQL databases, etc.).\n",
    "#### Use Cases: Extensively used in data science, finance, economics, statistics, analytics, and more. It's particularly strong in data munging and preparation, and as a backend for data analysis tools.\n",
    "\n"
   ]
  },
  {
   "cell_type": "code",
   "execution_count": 2,
   "id": "53824a13",
   "metadata": {
    "scrolled": true
   },
   "outputs": [
    {
     "name": "stdout",
     "output_type": "stream",
     "text": [
      "DataFrame:\n",
      "      Name  Age      City\n",
      "0    Alice   25  New York\n",
      "1      Bob   30     Paris\n",
      "2  Charlie   35    Berlin\n",
      "\n",
      "DataFrame with added Salary column:\n",
      "      Name  Age      City  Salary\n",
      "0    Alice   25  New York   70000\n",
      "1      Bob   30     Paris   80000\n",
      "2  Charlie   35    Berlin   90000\n",
      "\n",
      "Ages column:\n",
      "0    25\n",
      "1    30\n",
      "2    35\n",
      "Name: Age, dtype: int64\n",
      "\n",
      "Young Professionals (Age < 35):\n",
      "    Name  Age      City  Salary\n",
      "0  Alice   25  New York   70000\n",
      "1    Bob   30     Paris   80000\n"
     ]
    }
   ],
   "source": [
    "import pandas as pd\n",
    "\n",
    "# Creating a simple DataFrame\n",
    "data = {\n",
    "    'Name': ['Alice', 'Bob', 'Charlie'],\n",
    "    'Age': [25, 30, 35],\n",
    "    'City': ['New York', 'Paris', 'Berlin']\n",
    "}\n",
    "df = pd.DataFrame(data)\n",
    "\n",
    "# Display the DataFrame\n",
    "print(\"DataFrame:\")\n",
    "print(df)\n",
    "\n",
    "# Basic Data Manipulation\n",
    "# Adding a new column\n",
    "df['Salary'] = [70000, 80000, 90000]\n",
    "print(\"\\nDataFrame with added Salary column:\")\n",
    "print(df)\n",
    "\n",
    "# Data Retrieval\n",
    "# Retrieve a specific column\n",
    "ages = df['Age']\n",
    "print(\"\\nAges column:\")\n",
    "print(ages)\n",
    "\n",
    "# Filtering data\n",
    "young_professionals = df[df['Age'] < 35]\n",
    "print(\"\\nYoung Professionals (Age < 35):\")\n",
    "print(young_professionals)\n"
   ]
  },
  {
   "cell_type": "markdown",
   "id": "adc0de29",
   "metadata": {},
   "source": [
    "What's happening here?\n",
    "\n",
    "Import Pandas: Pandas is imported with the common alias pd.\n",
    "Creating DataFrame: A DataFrame is created from a dictionary. DataFrames are the primary data structure in Pandas.\n",
    "Manipulating Data: A new column 'Salary' is added to the DataFrame.\n",
    "Retrieving Data: The 'Age' column is accessed, and data is filtered based on a condition (Age < 35)."
   ]
  },
  {
   "cell_type": "markdown",
   "id": "9d334c37",
   "metadata": {},
   "source": [
    "#### Matplotlib (MATLAB-like Plotting Library):\n",
    "\n",
    "#### Purpose: Matplotlib is a comprehensive library for creating static, animated, and interactive visualizations in Python.\n",
    "\n",
    "#### Key Features:\n",
    "\n",
    "#### Versatile: Offers a wide range of plots and customization options, including line plots, scatter plots, bar charts, histograms, 3D plots, and more.\n",
    "#### Customizable: Provides extensive control over elements of a plot, allowing for the fine-tuning of visual details.\n",
    "#### Integration: Works well with many operating systems and graphics backends, and is designed to work with NumPy arrays and Pandas DataFrames.\n",
    "#### Use Cases: Widely used in data science for data visualization, making it easier to understand complex data and relationships through graphical representation."
   ]
  },
  {
   "cell_type": "code",
   "execution_count": 3,
   "id": "cb114c66",
   "metadata": {},
   "outputs": [
    {
     "data": {
      "image/png": "[encoded data removed]",
      "text/plain": [
       "<Figure size 640x480 with 1 Axes>"
      ]
     },
     "metadata": {},
     "output_type": "display_data"
    }
   ],
   "source": [
    "import matplotlib.pyplot as plt\n",
    "import numpy as np\n",
    "\n",
    "# Creating data\n",
    "x = np.linspace(0, 10, 100)  # 100 points from 0 to 10\n",
    "y = np.sin(x)  # Sine values of these points\n",
    "\n",
    "# Plotting the data\n",
    "plt.plot(x, y)\n",
    "plt.title(\"Sine Wave Plot\")\n",
    "plt.xlabel(\"X-Axis\")\n",
    "plt.ylabel(\"Sine of X\")\n",
    "plt.grid(True)\n",
    "plt.show()\n"
   ]
  },
  {
   "cell_type": "markdown",
   "id": "6a81836d",
   "metadata": {},
   "source": [
    "What's happening here?\n",
    "\n",
    "Import Matplotlib and NumPy: We import matplotlib.pyplot for plotting and numpy for generating data.\n",
    "Creating Data: We use NumPy to create an array of x values and compute their sine values.\n",
    "Plotting: We plot these values using plt.plot, then add a title, labels, and a grid."
   ]
  },
  {
   "cell_type": "markdown",
   "id": "0de8607c",
   "metadata": {},
   "source": [
    "#### Seaborn (Statistical Data Visualization Library):\n",
    "\n",
    "#### Purpose: Seaborn is built on top of Matplotlib and integrates closely with Pandas data structures. It provides a high-level interface for drawing attractive and informative statistical graphics.\n",
    "\n",
    "#### Key Features:\n",
    "\n",
    "#### Advanced Visualizations: Offers a variety of plot types for complex data visualization needs, including box plots, violin plots, pair plots, and heatmaps.\n",
    "#### Theming: Supports different themes and styles for more visually appealing plots.\n",
    "#### Ease of Use: Simplifies the creation of complex visualizations with less code compared to Matplotlib.\n",
    "#### Use Cases: Particularly useful in data analysis tasks requiring sophisticated visualizations, Seaborn is widely used in academia and industry for exploring and understanding data. "
   ]
  },
  {
   "cell_type": "code",
   "execution_count": 4,
   "id": "644b690d",
   "metadata": {},
   "outputs": [
    {
     "data": {
      "image/png": "[encoded data removed]",
      "text/plain": [
       "<Figure size 640x480 with 1 Axes>"
      ]
     },
     "metadata": {},
     "output_type": "display_data"
    }
   ],
   "source": [
    "import seaborn as sns\n",
    "import matplotlib.pyplot as plt\n",
    "import pandas as pd\n",
    "\n",
    "# Creating a DataFrame\n",
    "data = pd.DataFrame({\n",
    "    \"x\": [1, 2, 3, 4, 5],\n",
    "    \"y\": [5, 4, 3, 2, 1]\n",
    "})\n",
    "\n",
    "# Using Seaborn to create a scatter plot\n",
    "sns.scatterplot(x=\"x\", y=\"y\", data=data)\n",
    "\n",
    "# Enhancing the plot\n",
    "plt.title(\"Simple Scatter Plot with Seaborn\")\n",
    "plt.xlabel(\"X Value\")\n",
    "plt.ylabel(\"Y Value\")\n",
    "plt.show()\n"
   ]
  },
  {
   "cell_type": "markdown",
   "id": "3e45d331",
   "metadata": {},
   "source": [
    "What's happening here?\n",
    "\n",
    "Import Seaborn and Other Libraries: We import Seaborn, Pandas for data handling, and Matplotlib for additional plot customization.\n",
    "Creating Data: A simple Pandas DataFrame is created with x and y values.\n",
    "Plotting with Seaborn: sns.scatterplot is used to create a scatter plot.\n",
    "Customizing the Plot: We add a title and labels using Matplotlib's functions."
   ]
  },
  {
   "cell_type": "code",
   "execution_count": null,
   "id": "81dab936",
   "metadata": {},
   "outputs": [],
   "source": []
  }
 ],
 "metadata": {
  "kernelspec": {
   "display_name": "Python 3 (ipykernel)",
   "language": "python",
   "name": "python3"
  },
  "language_info": {
   "codemirror_mode": {
    "name": "ipython",
    "version": 3
   },
   "file_extension": ".py",
   "mimetype": "text/x-python",
   "name": "python",
   "nbconvert_exporter": "python",
   "pygments_lexer": "ipython3",
   "version": "3.11.5"
  }
 },
 "nbformat": 4,
 "nbformat_minor": 5
}
